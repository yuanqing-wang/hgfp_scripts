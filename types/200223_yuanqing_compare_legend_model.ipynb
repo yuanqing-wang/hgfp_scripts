{
 "cells": [
  {
   "cell_type": "code",
   "execution_count": 74,
   "metadata": {},
   "outputs": [],
   "source": [
    "import hgfp\n",
    "import torch\n",
    "import dgl\n",
    "import numpy as np"
   ]
  },
  {
   "cell_type": "code",
   "execution_count": 119,
   "metadata": {},
   "outputs": [
    {
     "name": "stderr",
     "output_type": "stream",
     "text": [
      "/Users/yuanqingwang/miniconda3/envs/env1/lib/python3.7/site-packages/dgl/base.py:25: UserWarning: Currently adjacency_matrix() returns a matrix with destination as rows by default.  In 0.5 the result will have source as rows (i.e. transpose=True)\n",
      "  warnings.warn(msg, warn_type)\n"
     ]
    }
   ],
   "source": [
    "ds = list(hgfp.data.parm_at_Frosst.df.batched(num=100, batch_size=16))\n",
    "ds_tr, ds_vl, ds_te = hgfp.data.utils.split(ds, 1, 1)"
   ]
  },
  {
   "cell_type": "code",
   "execution_count": 120,
   "metadata": {},
   "outputs": [],
   "source": [
    "from dgl.nn import pytorch as dgl_pytorch"
   ]
  },
  {
   "cell_type": "code",
   "execution_count": 135,
   "metadata": {},
   "outputs": [],
   "source": [
    "class GN(torch.nn.Module):\n",
    "    def __init__(self, model, kwargs):\n",
    "        super(GN, self).__init__()\n",
    "        self.gn = model(64, 64, **kwargs)\n",
    "        \n",
    "    def forward(self, g, x):\n",
    "        g_sub = g.edge_type_subgraph(['atom_neighbors_atom'])\n",
    "        x = self.gn(g_sub, x)\n",
    "        return x        "
   ]
  },
  {
   "cell_type": "code",
   "execution_count": 136,
   "metadata": {},
   "outputs": [],
   "source": [
    "class Classifier(torch.nn.Module):\n",
    "    def __init__(self, in_dim=128, out_dim=256, n_classes=45):\n",
    "        super(Classifier, self).__init__()\n",
    "        self.d = torch.nn.Linear(in_dim, out_dim)\n",
    "        self.c = torch.nn.Linear(out_dim, n_classes)\n",
    "        \n",
    "    def forward(self, x):\n",
    "        y_hat = self.c(\n",
    "                torch.nn.functional.tanh(\n",
    "                    self.d(\n",
    "                        x)))\n",
    "        \n",
    "        return y_hat\n",
    "        "
   ]
  },
  {
   "cell_type": "code",
   "execution_count": 137,
   "metadata": {},
   "outputs": [],
   "source": [
    "class Net(torch.nn.Module):\n",
    "    def __init__(self, model, kwargs):\n",
    "        super(Net, self).__init__()\n",
    "        self.f_in = torch.nn.Sequential(\n",
    "            torch.nn.Linear(117, 64),\n",
    "            torch.nn.Tanh())\n",
    "        \n",
    "        self.gn0 = GN(model, kwargs)\n",
    "        self.gn1 = GN(model, kwargs)\n",
    "        self.gn2 = GN(model, kwargs)\n",
    "        \n",
    "        self.c = Classifier(64, 64, 45)\n",
    "        \n",
    "    def forward(self, g):\n",
    "        x = g.nodes['atom'].data['h0']\n",
    "        x = self.f_in(x)\n",
    "        x = self.gn0(g, x)\n",
    "        x = torch.nn.functional.tanh(x)\n",
    "        x = self.gn1(g, x)\n",
    "        x = torch.nn.functional.tanh(x)\n",
    "        x = self.gn2(g, x)\n",
    "        x = self.c(x)\n",
    "        return x\n",
    "        "
   ]
  },
  {
   "cell_type": "code",
   "execution_count": 140,
   "metadata": {},
   "outputs": [
    {
     "name": "stderr",
     "output_type": "stream",
     "text": [
      "/Users/yuanqingwang/miniconda3/envs/env1/lib/python3.7/site-packages/torch/nn/functional.py:1340: UserWarning: nn.functional.tanh is deprecated. Use torch.tanh instead.\n",
      "  warnings.warn(\"nn.functional.tanh is deprecated. Use torch.tanh instead.\")\n",
      "/Users/yuanqingwang/miniconda3/envs/env1/lib/python3.7/site-packages/torch/nn/functional.py:1340: UserWarning: nn.functional.tanh is deprecated. Use torch.tanh instead.\n",
      "  warnings.warn(\"nn.functional.tanh is deprecated. Use torch.tanh instead.\")\n",
      "/Users/yuanqingwang/miniconda3/envs/env1/lib/python3.7/site-packages/torch/nn/functional.py:1340: UserWarning: nn.functional.tanh is deprecated. Use torch.tanh instead.\n",
      "  warnings.warn(\"nn.functional.tanh is deprecated. Use torch.tanh instead.\")\n",
      "/Users/yuanqingwang/miniconda3/envs/env1/lib/python3.7/site-packages/torch/nn/functional.py:1340: UserWarning: nn.functional.tanh is deprecated. Use torch.tanh instead.\n",
      "  warnings.warn(\"nn.functional.tanh is deprecated. Use torch.tanh instead.\")\n",
      "/Users/yuanqingwang/miniconda3/envs/env1/lib/python3.7/site-packages/torch/nn/functional.py:1340: UserWarning: nn.functional.tanh is deprecated. Use torch.tanh instead.\n",
      "  warnings.warn(\"nn.functional.tanh is deprecated. Use torch.tanh instead.\")\n",
      "/Users/yuanqingwang/miniconda3/envs/env1/lib/python3.7/site-packages/torch/nn/functional.py:1340: UserWarning: nn.functional.tanh is deprecated. Use torch.tanh instead.\n",
      "  warnings.warn(\"nn.functional.tanh is deprecated. Use torch.tanh instead.\")\n"
     ]
    }
   ],
   "source": [
    "for model_name, model in {\n",
    "        #         'GraphConv': [dgl_pytorch.conv.GraphConv, {}],\n",
    "        #         'TAGConv': [dgl_pytorch.conv.TAGConv, {}],\n",
    "        #         'GATConv': [dgl_pytorch.conv.GATConv, {'num_heads': 4}],\n",
    "        'EdgeConv': [dgl_pytorch.conv.EdgeConv, {}],\n",
    "        'SAGEConvMean': [dgl_pytorch.conv.SAGEConv, {'aggregator_type': 'mean'}],\n",
    "        'SAGEConvGCN': [dgl_pytorch.conv.SAGEConv, {'aggregator_type': 'gcn'}],\n",
    "        'SAGEConvPool': [dgl_pytorch.conv.SAGEConv, {'aggregator_type': 'pool'}],\n",
    "        'SAGEConvLSTM': [dgl_pytorch.conv.SAGEConv, {'aggregator_type': 'lstm'}],\n",
    "        'SGConv': [dgl_pytorch.conv.SGConv, {}]}.items():\n",
    "\n",
    "    net=Net(model[0], model[1])\n",
    "    opt = torch.optim.Adam(list(net.parameters()), 1e-3)\n",
    "    loss_fn = torch.nn.CrossEntropyLoss()\n",
    "    namespace = __import__(__name__)\n",
    "    \n",
    "    for part in ['tr', 'vl', 'te']:\n",
    "        exec('accuracy_' + part + '= []') \n",
    "\n",
    "    for _ in range(500):\n",
    "        for g, y in ds_tr:\n",
    "            opt.zero_grad()\n",
    "            y_hat = net(g)\n",
    "            loss = loss_fn(y_hat, torch.where(torch.gt(y, 0))[1])\n",
    "            loss.backward()\n",
    "            opt.step()\n",
    "\n",
    "        net.eval()\n",
    "        for part in ['tr', 'vl', 'te']:\n",
    "            y_hat = torch.cat([torch.argmax(net(g), dim=1) for g, y in getattr(\n",
    "                namespace, 'ds_' + part)], dim=0).detach().numpy()\n",
    "\n",
    "            y = torch.cat([torch.argmax(y, dim=1) for g, y in getattr(\n",
    "                namespace, 'ds_' + part)], dim=0).detach().numpy()\n",
    "\n",
    "            getattr(namespace, 'accuracy_' + part).append(\n",
    "                1 - np.divide(\n",
    "                    np.count_nonzero(y_hat - y),\n",
    "                y_hat.shape[0]))\n",
    "\n",
    "        net.train()\n",
    "\n",
    "    from matplotlib import pyplot as plt\n",
    "    plt.style.use('fivethirtyeight')\n",
    "    plt.figure()\n",
    "    plt.plot(accuracy_tr, label='tr')\n",
    "    plt.plot(accuracy_vl, label='vl')\n",
    "    plt.ylim(0, 1)\n",
    "    plt.legend()\n",
    "    plt.ylabel('accuracy')\n",
    "    plt.xlabel('n_epochs')\n",
    "    plt.title(model_name)\n",
    "    plt.tight_layout()\n",
    "    plt.savefig(model_name + '.png', dpi=500)\n",
    "    plt.close()\n",
    "        "
   ]
  },
  {
   "cell_type": "code",
   "execution_count": 126,
   "metadata": {},
   "outputs": [],
   "source": [
    "def f(kwargs):\n",
    "    print(kwargs)\n",
    "    print(**kwargs)"
   ]
  },
  {
   "cell_type": "code",
   "execution_count": 103,
   "metadata": {},
   "outputs": [
    {
     "name": "stdout",
     "output_type": "stream",
     "text": [
      "{'a': 'fuck'}\n"
     ]
    },
    {
     "ename": "TypeError",
     "evalue": "'a' is an invalid keyword argument for print()",
     "output_type": "error",
     "traceback": [
      "\u001b[0;31m---------------------------------------------------------------------------\u001b[0m",
      "\u001b[0;31mTypeError\u001b[0m                                 Traceback (most recent call last)",
      "\u001b[0;32m<ipython-input-103-1823ae48f12f>\u001b[0m in \u001b[0;36m<module>\u001b[0;34m\u001b[0m\n\u001b[0;32m----> 1\u001b[0;31m \u001b[0mf\u001b[0m\u001b[0;34m(\u001b[0m\u001b[0;34m{\u001b[0m\u001b[0;34m'a'\u001b[0m\u001b[0;34m:\u001b[0m \u001b[0;34m'fuck'\u001b[0m\u001b[0;34m}\u001b[0m\u001b[0;34m)\u001b[0m\u001b[0;34m\u001b[0m\u001b[0;34m\u001b[0m\u001b[0m\n\u001b[0m",
      "\u001b[0;32m<ipython-input-102-c9459f94729d>\u001b[0m in \u001b[0;36mf\u001b[0;34m(kwargs)\u001b[0m\n\u001b[1;32m      1\u001b[0m \u001b[0;32mdef\u001b[0m \u001b[0mf\u001b[0m\u001b[0;34m(\u001b[0m\u001b[0mkwargs\u001b[0m\u001b[0;34m)\u001b[0m\u001b[0;34m:\u001b[0m\u001b[0;34m\u001b[0m\u001b[0;34m\u001b[0m\u001b[0m\n\u001b[1;32m      2\u001b[0m     \u001b[0mprint\u001b[0m\u001b[0;34m(\u001b[0m\u001b[0mkwargs\u001b[0m\u001b[0;34m)\u001b[0m\u001b[0;34m\u001b[0m\u001b[0;34m\u001b[0m\u001b[0m\n\u001b[0;32m----> 3\u001b[0;31m     \u001b[0mprint\u001b[0m\u001b[0;34m(\u001b[0m\u001b[0;34m**\u001b[0m\u001b[0mkwargs\u001b[0m\u001b[0;34m)\u001b[0m\u001b[0;34m\u001b[0m\u001b[0;34m\u001b[0m\u001b[0m\n\u001b[0m",
      "\u001b[0;31mTypeError\u001b[0m: 'a' is an invalid keyword argument for print()"
     ]
    }
   ],
   "source": [
    "f({'a': 'fuck'})"
   ]
  },
  {
   "cell_type": "code",
   "execution_count": null,
   "metadata": {},
   "outputs": [],
   "source": []
  }
 ],
 "metadata": {
  "kernelspec": {
   "display_name": "Python 3",
   "language": "python",
   "name": "python3"
  },
  "language_info": {
   "codemirror_mode": {
    "name": "ipython",
    "version": 3
   },
   "file_extension": ".py",
   "mimetype": "text/x-python",
   "name": "python",
   "nbconvert_exporter": "python",
   "pygments_lexer": "ipython3",
   "version": "3.7.4"
  }
 },
 "nbformat": 4,
 "nbformat_minor": 2
}
